{
 "cells": [
  {
   "cell_type": "code",
   "execution_count": 0,
   "metadata": {
    "application/vnd.databricks.v1+cell": {
     "cellMetadata": {
      "byteLimit": 2048000,
      "rowLimit": 10000
     },
     "inputWidgets": {},
     "nuid": "d0dc326b-9408-41d3-9758-c53b9b0488fa",
     "showTitle": false,
     "tableResultSettingsMap": {},
     "title": ""
    }
   },
   "outputs": [],
   "source": [
    "# Read CDC stream\n",
    "cdc_stream = spark.readStream.format(\"delta\") \\\n",
    "    .option(\"readChangeFeed\", \"true\") \\\n",
    "    .table(\"incremental_load.default.raw_upi_transactions\")\n",
    "\n",
    "# Display CDC changes\n",
    "query = cdc_stream.select(\n",
    "    \"transaction_id\",\n",
    "    \"upi_id\",\n",
    "    \"merchant_id\",\n",
    "    \"transaction_amount\",\n",
    "    \"transaction_timestamp\",\n",
    "    \"transaction_status\",\n",
    "    \"_change_type\",  # CDC change type\n",
    "    \"_commit_version\",\n",
    "    \"_commit_timestamp\"\n",
    ").writeStream.format(\"console\") \\\n",
    "    .outputMode(\"append\") \\\n",
    "    .start()\n",
    "\n",
    "query.awaitTermination()"
   ]
  }
 ],
 "metadata": {
  "application/vnd.databricks.v1+notebook": {
   "computePreferences": null,
   "dashboards": [],
   "environmentMetadata": {
    "base_environment": "",
    "environment_version": "2"
   },
   "inputWidgetPreferences": null,
   "language": "python",
   "notebookMetadata": {
    "pythonIndentUnit": 4
   },
   "notebookName": "CDC_MERCHANT_AGGREGATION_CODE",
   "widgets": {}
  },
  "language_info": {
   "name": "python"
  }
 },
 "nbformat": 4,
 "nbformat_minor": 0
}
